{
  "cells": [
    {
      "cell_type": "markdown",
      "metadata": {
        "id": "pkKA6EUUbI8d"
      },
      "source": [
        "# Convolutionalization\n",
        "\n",
        "In this notebook, we explain the idea of convolutionalization, working with mnist digits.\n",
        "\n",
        "Convolutionalization is the process of transforming a neural network containing dense layers (typically some classification network) into a fully convolutional one.\n",
        "\n",
        "The fully convolutional network can be used as a detector kernel, convolving it over an input image to produce a \"heat map\" of the locations where objects are found."
      ]
    },
    {
      "cell_type": "code",
      "execution_count": 1,
      "metadata": {
        "id": "n-Kvac_mA5hb"
      },
      "outputs": [],
      "source": [
        "import tensorflow as tf\n",
        "from tensorflow.keras.layers import Input, Conv2D, Flatten, Dense, GlobalMaxPool2D, MaxPool2D, Reshape\n",
        "from tensorflow.keras.models import Model\n",
        "from tensorflow.keras.datasets import mnist\n",
        "import numpy as np\n",
        "import matplotlib.pyplot as plt"
      ]
    },
    {
      "cell_type": "markdown",
      "metadata": {
        "id": "EwmUCAgoMPqE"
      },
      "source": [
        "Here we load the mnist dataset"
      ]
    },
    {
      "cell_type": "code",
      "execution_count": 2,
      "metadata": {
        "colab": {
          "base_uri": "https://localhost:8080/"
        },
        "id": "LtQzvbqvBuzF",
        "outputId": "15954b25-1d98-4244-f683-b0db08b83870"
      },
      "outputs": [
        {
          "name": "stdout",
          "output_type": "stream",
          "text": [
            "(60000, 28, 28, 1)\n",
            "0.0\n",
            "1.0\n"
          ]
        }
      ],
      "source": [
        "(x_train, y_train), (x_test, y_test) = mnist.load_data()\n",
        "x_train = x_train.reshape(60000,28,28,1)/255.\n",
        "x_test = x_test.reshape(10000,28,28,1)/255.\n",
        "print(x_train.shape)\n",
        "print(x_train.min())\n",
        "print(x_train.max())"
      ]
    },
    {
      "cell_type": "markdown",
      "metadata": {
        "id": "8Mm96cktqb7j"
      },
      "source": [
        "It is convenient to add to the detector a \"background\" class, containing no object. For traning and testing we create a bunch of images \"almost black\" (to be refined as an exercise)."
      ]
    },
    {
      "cell_type": "code",
      "execution_count": 3,
      "metadata": {
        "id": "ynQax_TpqV_3"
      },
      "outputs": [],
      "source": [
        "background = np.random.randint(0,5,(6000,28,28,1))/255. # random train\n",
        "background_test = np.random.randint(0,5,(1000,28,28,1))/255. # random test "
      ]
    },
    {
      "cell_type": "markdown",
      "metadata": {
        "id": "gH5zpBkqthfX"
      },
      "source": [
        "Let us see an example of background, together with a typical image."
      ]
    },
    {
      "cell_type": "code",
      "execution_count": 4,
      "metadata": {
        "colab": {
          "base_uri": "https://localhost:8080/",
          "height": 216
        },
        "id": "JSttQ9PdqSKl",
        "outputId": "d819ceba-b63d-4c2a-a09e-fe5ce42f746b"
      },
      "outputs": [
        {
          "data": {
            "image/png": "[encoded data removed]",
            "text/plain": [
              "<Figure size 640x480 with 1 Axes>"
            ]
          },
          "metadata": {},
          "output_type": "display_data"
        }
      ],
      "source": [
        "imageplot = plt.imshow(np.reshape(np.concatenate((background[15],x_train[23]),axis=1),(28,56)))\n",
        "plt.show()"
      ]
    },
    {
      "cell_type": "markdown",
      "metadata": {
        "id": "xRMu8SAWdHYx"
      },
      "source": [
        "We extend the training set. Backgound gets label \"10\"."
      ]
    },
    {
      "cell_type": "code",
      "execution_count": 5,
      "metadata": {
        "id": "d2Rj10qfCLNi"
      },
      "outputs": [],
      "source": [
        "x_train_bg = np.concatenate((x_train,background))\n",
        "x_test_bg = np.concatenate((x_test,background_test))\n",
        "y_train_bg = np.concatenate((y_train,np.ones(6000)*10))\n",
        "y_test_bg = np.concatenate((y_test,np.ones(1000)*10))"
      ]
    },
    {
      "cell_type": "code",
      "execution_count": 6,
      "metadata": {
        "colab": {
          "base_uri": "https://localhost:8080/"
        },
        "id": "vaF-vuoNOSsl",
        "outputId": "212bfe92-a17a-415a-a2d6-eeaf25827a02"
      },
      "outputs": [
        {
          "name": "stdout",
          "output_type": "stream",
          "text": [
            "(66000, 28, 28, 1)\n"
          ]
        }
      ],
      "source": [
        "print(x_train_bg.shape)"
      ]
    },
    {
      "cell_type": "markdown",
      "metadata": {
        "id": "jywUMUvbd1s6"
      },
      "source": [
        "The classifier is composed by an initial part made by 2Dconvolutional layers, followed by two dense layers (intermixed by dropout).\n",
        "\n",
        "Every other convolution has stride 2, halving the size of the input. At the same time we double the channel dimension, to partially compensate the dimensionality loss.\n"
      ]
    },
    {
      "cell_type": "code",
      "execution_count": 8,
      "metadata": {
        "id": "jc2XEhlhCxhq"
      },
      "outputs": [],
      "source": [
        "iimg = Input(shape=(28,28,1))\n",
        "x = Conv2D(16,(3,3),strides=2,padding='same', activation='swish')(iimg)\n",
        "x = Conv2D(32,(3,3),strides=2,padding='same',activation='swish')(x)\n",
        "x = Conv2D(64,(3,3),strides=2,padding='same',activation='swish')(x)\n",
        "x = GlobalMaxPool2D()(x)\n",
        "x = Dense(64,activation = 'swish')(x)\n",
        "cout = Dense(11, activation = 'softmax')(x) #we have now 11 categories\n",
        "\n",
        "model = Model(inputs=[iimg],outputs=[cout])"
      ]
    },
    {
      "cell_type": "markdown",
      "metadata": {
        "id": "GkpFw9N2exQd"
      },
      "source": [
        "Here is the model summary. "
      ]
    },
    {
      "cell_type": "code",
      "execution_count": 9,
      "metadata": {
        "colab": {
          "base_uri": "https://localhost:8080/"
        },
        "id": "QamU6c46GqsD",
        "outputId": "5e2dca0b-1d27-442d-ad1a-1da0bf397d15"
      },
      "outputs": [
        {
          "data": {
            "text/html": [
              "<pre style=\"white-space:pre;overflow-x:auto;line-height:normal;font-family:Menlo,'DejaVu Sans Mono',consolas,'Courier New',monospace\"><span style=\"font-weight: bold\">Model: \"functional_3\"</span>\n",
              "</pre>\n"
            ],
            "text/plain": [
              "\u001b[1mModel: \"functional_3\"\u001b[0m\n"
            ]
          },
          "metadata": {},
          "output_type": "display_data"
        },
        {
          "data": {
            "text/html": [
              "<pre style=\"white-space:pre;overflow-x:auto;line-height:normal;font-family:Menlo,'DejaVu Sans Mono',consolas,'Courier New',monospace\">┏━━━━━━━━━━━━━━━━━━━━━━━━━━━━━━━━━┳━━━━━━━━━━━━━━━━━━━━━━━━┳━━━━━━━━━━━━━━━┓\n",
              "┃<span style=\"font-weight: bold\"> Layer (type)                    </span>┃<span style=\"font-weight: bold\"> Output Shape           </span>┃<span style=\"font-weight: bold\">       Param # </span>┃\n",
              "┡━━━━━━━━━━━━━━━━━━━━━━━━━━━━━━━━━╇━━━━━━━━━━━━━━━━━━━━━━━━╇━━━━━━━━━━━━━━━┩\n",
              "│ input_layer_1 (<span style=\"color: #0087ff; text-decoration-color: #0087ff\">InputLayer</span>)      │ (<span style=\"color: #00d7ff; text-decoration-color: #00d7ff\">None</span>, <span style=\"color: #00af00; text-decoration-color: #00af00\">28</span>, <span style=\"color: #00af00; text-decoration-color: #00af00\">28</span>, <span style=\"color: #00af00; text-decoration-color: #00af00\">1</span>)      │             <span style=\"color: #00af00; text-decoration-color: #00af00\">0</span> │\n",
              "├─────────────────────────────────┼────────────────────────┼───────────────┤\n",
              "│ conv2d_3 (<span style=\"color: #0087ff; text-decoration-color: #0087ff\">Conv2D</span>)               │ (<span style=\"color: #00d7ff; text-decoration-color: #00d7ff\">None</span>, <span style=\"color: #00af00; text-decoration-color: #00af00\">14</span>, <span style=\"color: #00af00; text-decoration-color: #00af00\">14</span>, <span style=\"color: #00af00; text-decoration-color: #00af00\">16</span>)     │           <span style=\"color: #00af00; text-decoration-color: #00af00\">160</span> │\n",
              "├─────────────────────────────────┼────────────────────────┼───────────────┤\n",
              "│ conv2d_4 (<span style=\"color: #0087ff; text-decoration-color: #0087ff\">Conv2D</span>)               │ (<span style=\"color: #00d7ff; text-decoration-color: #00d7ff\">None</span>, <span style=\"color: #00af00; text-decoration-color: #00af00\">7</span>, <span style=\"color: #00af00; text-decoration-color: #00af00\">7</span>, <span style=\"color: #00af00; text-decoration-color: #00af00\">32</span>)       │         <span style=\"color: #00af00; text-decoration-color: #00af00\">4,640</span> │\n",
              "├─────────────────────────────────┼────────────────────────┼───────────────┤\n",
              "│ conv2d_5 (<span style=\"color: #0087ff; text-decoration-color: #0087ff\">Conv2D</span>)               │ (<span style=\"color: #00d7ff; text-decoration-color: #00d7ff\">None</span>, <span style=\"color: #00af00; text-decoration-color: #00af00\">4</span>, <span style=\"color: #00af00; text-decoration-color: #00af00\">4</span>, <span style=\"color: #00af00; text-decoration-color: #00af00\">64</span>)       │        <span style=\"color: #00af00; text-decoration-color: #00af00\">18,496</span> │\n",
              "├─────────────────────────────────┼────────────────────────┼───────────────┤\n",
              "│ global_max_pooling2d_1          │ (<span style=\"color: #00d7ff; text-decoration-color: #00d7ff\">None</span>, <span style=\"color: #00af00; text-decoration-color: #00af00\">64</span>)             │             <span style=\"color: #00af00; text-decoration-color: #00af00\">0</span> │\n",
              "│ (<span style=\"color: #0087ff; text-decoration-color: #0087ff\">GlobalMaxPooling2D</span>)            │                        │               │\n",
              "├─────────────────────────────────┼────────────────────────┼───────────────┤\n",
              "│ dense_2 (<span style=\"color: #0087ff; text-decoration-color: #0087ff\">Dense</span>)                 │ (<span style=\"color: #00d7ff; text-decoration-color: #00d7ff\">None</span>, <span style=\"color: #00af00; text-decoration-color: #00af00\">64</span>)             │         <span style=\"color: #00af00; text-decoration-color: #00af00\">4,160</span> │\n",
              "├─────────────────────────────────┼────────────────────────┼───────────────┤\n",
              "│ dense_3 (<span style=\"color: #0087ff; text-decoration-color: #0087ff\">Dense</span>)                 │ (<span style=\"color: #00d7ff; text-decoration-color: #00d7ff\">None</span>, <span style=\"color: #00af00; text-decoration-color: #00af00\">11</span>)             │           <span style=\"color: #00af00; text-decoration-color: #00af00\">715</span> │\n",
              "└─────────────────────────────────┴────────────────────────┴───────────────┘\n",
              "</pre>\n"
            ],
            "text/plain": [
              "┏━━━━━━━━━━━━━━━━━━━━━━━━━━━━━━━━━┳━━━━━━━━━━━━━━━━━━━━━━━━┳━━━━━━━━━━━━━━━┓\n",
              "┃\u001b[1m \u001b[0m\u001b[1mLayer (type)                   \u001b[0m\u001b[1m \u001b[0m┃\u001b[1m \u001b[0m\u001b[1mOutput Shape          \u001b[0m\u001b[1m \u001b[0m┃\u001b[1m \u001b[0m\u001b[1m      Param #\u001b[0m\u001b[1m \u001b[0m┃\n",
              "┡━━━━━━━━━━━━━━━━━━━━━━━━━━━━━━━━━╇━━━━━━━━━━━━━━━━━━━━━━━━╇━━━━━━━━━━━━━━━┩\n",
              "│ input_layer_1 (\u001b[38;5;33mInputLayer\u001b[0m)      │ (\u001b[38;5;45mNone\u001b[0m, \u001b[38;5;34m28\u001b[0m, \u001b[38;5;34m28\u001b[0m, \u001b[38;5;34m1\u001b[0m)      │             \u001b[38;5;34m0\u001b[0m │\n",
              "├─────────────────────────────────┼────────────────────────┼───────────────┤\n",
              "│ conv2d_3 (\u001b[38;5;33mConv2D\u001b[0m)               │ (\u001b[38;5;45mNone\u001b[0m, \u001b[38;5;34m14\u001b[0m, \u001b[38;5;34m14\u001b[0m, \u001b[38;5;34m16\u001b[0m)     │           \u001b[38;5;34m160\u001b[0m │\n",
              "├─────────────────────────────────┼────────────────────────┼───────────────┤\n",
              "│ conv2d_4 (\u001b[38;5;33mConv2D\u001b[0m)               │ (\u001b[38;5;45mNone\u001b[0m, \u001b[38;5;34m7\u001b[0m, \u001b[38;5;34m7\u001b[0m, \u001b[38;5;34m32\u001b[0m)       │         \u001b[38;5;34m4,640\u001b[0m │\n",
              "├─────────────────────────────────┼────────────────────────┼───────────────┤\n",
              "│ conv2d_5 (\u001b[38;5;33mConv2D\u001b[0m)               │ (\u001b[38;5;45mNone\u001b[0m, \u001b[38;5;34m4\u001b[0m, \u001b[38;5;34m4\u001b[0m, \u001b[38;5;34m64\u001b[0m)       │        \u001b[38;5;34m18,496\u001b[0m │\n",
              "├─────────────────────────────────┼────────────────────────┼───────────────┤\n",
              "│ global_max_pooling2d_1          │ (\u001b[38;5;45mNone\u001b[0m, \u001b[38;5;34m64\u001b[0m)             │             \u001b[38;5;34m0\u001b[0m │\n",
              "│ (\u001b[38;5;33mGlobalMaxPooling2D\u001b[0m)            │                        │               │\n",
              "├─────────────────────────────────┼────────────────────────┼───────────────┤\n",
              "│ dense_2 (\u001b[38;5;33mDense\u001b[0m)                 │ (\u001b[38;5;45mNone\u001b[0m, \u001b[38;5;34m64\u001b[0m)             │         \u001b[38;5;34m4,160\u001b[0m │\n",
              "├─────────────────────────────────┼────────────────────────┼───────────────┤\n",
              "│ dense_3 (\u001b[38;5;33mDense\u001b[0m)                 │ (\u001b[38;5;45mNone\u001b[0m, \u001b[38;5;34m11\u001b[0m)             │           \u001b[38;5;34m715\u001b[0m │\n",
              "└─────────────────────────────────┴────────────────────────┴───────────────┘\n"
            ]
          },
          "metadata": {},
          "output_type": "display_data"
        },
        {
          "data": {
            "text/html": [
              "<pre style=\"white-space:pre;overflow-x:auto;line-height:normal;font-family:Menlo,'DejaVu Sans Mono',consolas,'Courier New',monospace\"><span style=\"font-weight: bold\"> Total params: </span><span style=\"color: #00af00; text-decoration-color: #00af00\">28,171</span> (110.04 KB)\n",
              "</pre>\n"
            ],
            "text/plain": [
              "\u001b[1m Total params: \u001b[0m\u001b[38;5;34m28,171\u001b[0m (110.04 KB)\n"
            ]
          },
          "metadata": {},
          "output_type": "display_data"
        },
        {
          "data": {
            "text/html": [
              "<pre style=\"white-space:pre;overflow-x:auto;line-height:normal;font-family:Menlo,'DejaVu Sans Mono',consolas,'Courier New',monospace\"><span style=\"font-weight: bold\"> Trainable params: </span><span style=\"color: #00af00; text-decoration-color: #00af00\">28,171</span> (110.04 KB)\n",
              "</pre>\n"
            ],
            "text/plain": [
              "\u001b[1m Trainable params: \u001b[0m\u001b[38;5;34m28,171\u001b[0m (110.04 KB)\n"
            ]
          },
          "metadata": {},
          "output_type": "display_data"
        },
        {
          "data": {
            "text/html": [
              "<pre style=\"white-space:pre;overflow-x:auto;line-height:normal;font-family:Menlo,'DejaVu Sans Mono',consolas,'Courier New',monospace\"><span style=\"font-weight: bold\"> Non-trainable params: </span><span style=\"color: #00af00; text-decoration-color: #00af00\">0</span> (0.00 B)\n",
              "</pre>\n"
            ],
            "text/plain": [
              "\u001b[1m Non-trainable params: \u001b[0m\u001b[38;5;34m0\u001b[0m (0.00 B)\n"
            ]
          },
          "metadata": {},
          "output_type": "display_data"
        }
      ],
      "source": [
        "model.summary()"
      ]
    },
    {
      "cell_type": "markdown",
      "metadata": {
        "id": "0Qmdo95Ugyl_"
      },
      "source": [
        "We compile the model with (sparse) categorical crossentropy. \n",
        "Recall that the training set is automatically shuffled by the fit method.\n",
        "\n",
        "We add accuracy as additional metric to evaluate the model."
      ]
    },
    {
      "cell_type": "code",
      "execution_count": 10,
      "metadata": {
        "id": "sFFQtCClN9cw"
      },
      "outputs": [],
      "source": [
        "model.compile(optimizer='adam',loss='sparse_categorical_crossentropy',metrics=['accuracy'])"
      ]
    },
    {
      "cell_type": "markdown",
      "metadata": {
        "id": "LAF84qHSjrXc"
      },
      "source": [
        "Ten epochs of training should be enough."
      ]
    },
    {
      "cell_type": "code",
      "execution_count": 11,
      "metadata": {
        "colab": {
          "base_uri": "https://localhost:8080/"
        },
        "id": "qZ3kzHG8NnlV",
        "outputId": "ee3a6a6f-c57d-4966-d4ec-4043c0c9312b"
      },
      "outputs": [
        {
          "name": "stdout",
          "output_type": "stream",
          "text": [
            "Epoch 1/10\n",
            "\u001b[1m660/660\u001b[0m \u001b[32m━━━━━━━━━━━━━━━━━━━━\u001b[0m\u001b[37m\u001b[0m \u001b[1m15s\u001b[0m 18ms/step - accuracy: 0.7031 - loss: 0.9345 - val_accuracy: 0.9552 - val_loss: 0.1595\n",
            "Epoch 2/10\n",
            "\u001b[1m660/660\u001b[0m \u001b[32m━━━━━━━━━━━━━━━━━━━━\u001b[0m\u001b[37m\u001b[0m \u001b[1m11s\u001b[0m 16ms/step - accuracy: 0.9592 - loss: 0.1362 - val_accuracy: 0.9616 - val_loss: 0.1236\n",
            "Epoch 3/10\n",
            "\u001b[1m660/660\u001b[0m \u001b[32m━━━━━━━━━━━━━━━━━━━━\u001b[0m\u001b[37m\u001b[0m \u001b[1m11s\u001b[0m 16ms/step - accuracy: 0.9723 - loss: 0.0938 - val_accuracy: 0.9715 - val_loss: 0.0875\n",
            "Epoch 4/10\n",
            "\u001b[1m660/660\u001b[0m \u001b[32m━━━━━━━━━━━━━━━━━━━━\u001b[0m\u001b[37m\u001b[0m \u001b[1m12s\u001b[0m 17ms/step - accuracy: 0.9791 - loss: 0.0692 - val_accuracy: 0.9780 - val_loss: 0.0712\n",
            "Epoch 5/10\n",
            "\u001b[1m660/660\u001b[0m \u001b[32m━━━━━━━━━━━━━━━━━━━━\u001b[0m\u001b[37m\u001b[0m \u001b[1m11s\u001b[0m 17ms/step - accuracy: 0.9822 - loss: 0.0559 - val_accuracy: 0.9784 - val_loss: 0.0647\n",
            "Epoch 6/10\n",
            "\u001b[1m660/660\u001b[0m \u001b[32m━━━━━━━━━━━━━━━━━━━━\u001b[0m\u001b[37m\u001b[0m \u001b[1m12s\u001b[0m 18ms/step - accuracy: 0.9856 - loss: 0.0463 - val_accuracy: 0.9817 - val_loss: 0.0548\n",
            "Epoch 7/10\n",
            "\u001b[1m660/660\u001b[0m \u001b[32m━━━━━━━━━━━━━━━━━━━━\u001b[0m\u001b[37m\u001b[0m \u001b[1m20s\u001b[0m 16ms/step - accuracy: 0.9878 - loss: 0.0373 - val_accuracy: 0.9812 - val_loss: 0.0564\n",
            "Epoch 8/10\n",
            "\u001b[1m660/660\u001b[0m \u001b[32m━━━━━━━━━━━━━━━━━━━━\u001b[0m\u001b[37m\u001b[0m \u001b[1m11s\u001b[0m 17ms/step - accuracy: 0.9889 - loss: 0.0337 - val_accuracy: 0.9843 - val_loss: 0.0503\n",
            "Epoch 9/10\n",
            "\u001b[1m660/660\u001b[0m \u001b[32m━━━━━━━━━━━━━━━━━━━━\u001b[0m\u001b[37m\u001b[0m \u001b[1m20s\u001b[0m 17ms/step - accuracy: 0.9910 - loss: 0.0283 - val_accuracy: 0.9858 - val_loss: 0.0462\n",
            "Epoch 10/10\n",
            "\u001b[1m660/660\u001b[0m \u001b[32m━━━━━━━━━━━━━━━━━━━━\u001b[0m\u001b[37m\u001b[0m \u001b[1m12s\u001b[0m 18ms/step - accuracy: 0.9919 - loss: 0.0252 - val_accuracy: 0.9849 - val_loss: 0.0525\n"
          ]
        },
        {
          "data": {
            "text/plain": [
              "<keras.src.callbacks.history.History at 0x1b9c2881660>"
            ]
          },
          "execution_count": 11,
          "metadata": {},
          "output_type": "execute_result"
        }
      ],
      "source": [
        "model.fit(x_train_bg,y_train_bg,\n",
        "          epochs=10,\n",
        "          batch_size=100,\n",
        "          validation_data=(x_test_bg, y_test_bg))"
      ]
    },
    {
      "cell_type": "markdown",
      "metadata": {
        "id": "yncro6-HM7cM"
      },
      "source": [
        "Let us save the weights, since we need them."
      ]
    },
    {
      "cell_type": "code",
      "execution_count": 20,
      "metadata": {
        "id": "A470NYc06CAm"
      },
      "outputs": [],
      "source": [
        "model.save_weights(\"C:\\\\Users\\\\39392\\\\phytondoc\\\\DeepLearning\\\\notebooks\\\\mymodel.weights.h5\")"
      ]
    },
    {
      "cell_type": "markdown",
      "metadata": {
        "id": "QYouO3EG4twa"
      },
      "source": [
        "Now we define a fully convolutional network. We aim to obtain in output a feature map, that is a 2D image.\n",
        "\n",
        "A simple way to do it is to directly apply the Dense layers to the 3D features maps before maxpooling. In tensorflow, this is equivalent to apply a unary convolution, that is the dense layer only operates on channels."
      ]
    },
    {
      "cell_type": "code",
      "execution_count": 21,
      "metadata": {
        "id": "HWx7Qce053Tn"
      },
      "outputs": [],
      "source": [
        "iimg = Input(shape=(None,None,1))\n",
        "x = Conv2D(16,(3,3),strides=2,padding='same', activation='swish',name=\"l1\")(iimg)\n",
        "x = Conv2D(32,(3,3),strides=2,padding='same',activation='swish',name=\"l2\")(x)\n",
        "x = Conv2D(64,(3,3),strides=2,padding='same',activation='swish',name=\"l3\")(x)\n",
        "#x = MaxPool2D((3,3),padding='same',strides=1)(x)\n",
        "x = Dense(64,activation = 'swish')(x)\n",
        "cout = Dense(11, activation = 'softmax')(x) \n",
        "\n",
        "model_c = Model(inputs=[iimg],outputs=[cout])"
      ]
    },
    {
      "cell_type": "markdown",
      "metadata": {
        "id": "OcDxh3NPN2zj"
      },
      "source": [
        "Let us see the summary. \n",
        "\n",
        "Observe that the spatial dimension of the input is unspecified and that we get a spatial heat map as output. \n",
        "\n",
        "To beeter understand the relation between the input-output spatial dimensions fix the some shapes for inputs and recompute the summary."
      ]
    },
    {
      "cell_type": "code",
      "execution_count": 22,
      "metadata": {
        "colab": {
          "base_uri": "https://localhost:8080/"
        },
        "id": "aBz8nT8Z6qzl",
        "outputId": "66ee5cdb-fb19-4fe8-d6c4-d056d4d09da8"
      },
      "outputs": [
        {
          "data": {
            "text/html": [
              "<pre style=\"white-space:pre;overflow-x:auto;line-height:normal;font-family:Menlo,'DejaVu Sans Mono',consolas,'Courier New',monospace\"><span style=\"font-weight: bold\">Model: \"functional_5\"</span>\n",
              "</pre>\n"
            ],
            "text/plain": [
              "\u001b[1mModel: \"functional_5\"\u001b[0m\n"
            ]
          },
          "metadata": {},
          "output_type": "display_data"
        },
        {
          "data": {
            "text/html": [
              "<pre style=\"white-space:pre;overflow-x:auto;line-height:normal;font-family:Menlo,'DejaVu Sans Mono',consolas,'Courier New',monospace\">┏━━━━━━━━━━━━━━━━━━━━━━━━━━━━━━━━━┳━━━━━━━━━━━━━━━━━━━━━━━━┳━━━━━━━━━━━━━━━┓\n",
              "┃<span style=\"font-weight: bold\"> Layer (type)                    </span>┃<span style=\"font-weight: bold\"> Output Shape           </span>┃<span style=\"font-weight: bold\">       Param # </span>┃\n",
              "┡━━━━━━━━━━━━━━━━━━━━━━━━━━━━━━━━━╇━━━━━━━━━━━━━━━━━━━━━━━━╇━━━━━━━━━━━━━━━┩\n",
              "│ input_layer_2 (<span style=\"color: #0087ff; text-decoration-color: #0087ff\">InputLayer</span>)      │ (<span style=\"color: #00d7ff; text-decoration-color: #00d7ff\">None</span>, <span style=\"color: #00d7ff; text-decoration-color: #00d7ff\">None</span>, <span style=\"color: #00d7ff; text-decoration-color: #00d7ff\">None</span>, <span style=\"color: #00af00; text-decoration-color: #00af00\">1</span>)  │             <span style=\"color: #00af00; text-decoration-color: #00af00\">0</span> │\n",
              "├─────────────────────────────────┼────────────────────────┼───────────────┤\n",
              "│ l1 (<span style=\"color: #0087ff; text-decoration-color: #0087ff\">Conv2D</span>)                     │ (<span style=\"color: #00d7ff; text-decoration-color: #00d7ff\">None</span>, <span style=\"color: #00d7ff; text-decoration-color: #00d7ff\">None</span>, <span style=\"color: #00d7ff; text-decoration-color: #00d7ff\">None</span>, <span style=\"color: #00af00; text-decoration-color: #00af00\">16</span>) │           <span style=\"color: #00af00; text-decoration-color: #00af00\">160</span> │\n",
              "├─────────────────────────────────┼────────────────────────┼───────────────┤\n",
              "│ l2 (<span style=\"color: #0087ff; text-decoration-color: #0087ff\">Conv2D</span>)                     │ (<span style=\"color: #00d7ff; text-decoration-color: #00d7ff\">None</span>, <span style=\"color: #00d7ff; text-decoration-color: #00d7ff\">None</span>, <span style=\"color: #00d7ff; text-decoration-color: #00d7ff\">None</span>, <span style=\"color: #00af00; text-decoration-color: #00af00\">32</span>) │         <span style=\"color: #00af00; text-decoration-color: #00af00\">4,640</span> │\n",
              "├─────────────────────────────────┼────────────────────────┼───────────────┤\n",
              "│ l3 (<span style=\"color: #0087ff; text-decoration-color: #0087ff\">Conv2D</span>)                     │ (<span style=\"color: #00d7ff; text-decoration-color: #00d7ff\">None</span>, <span style=\"color: #00d7ff; text-decoration-color: #00d7ff\">None</span>, <span style=\"color: #00d7ff; text-decoration-color: #00d7ff\">None</span>, <span style=\"color: #00af00; text-decoration-color: #00af00\">64</span>) │        <span style=\"color: #00af00; text-decoration-color: #00af00\">18,496</span> │\n",
              "├─────────────────────────────────┼────────────────────────┼───────────────┤\n",
              "│ dense_4 (<span style=\"color: #0087ff; text-decoration-color: #0087ff\">Dense</span>)                 │ (<span style=\"color: #00d7ff; text-decoration-color: #00d7ff\">None</span>, <span style=\"color: #00d7ff; text-decoration-color: #00d7ff\">None</span>, <span style=\"color: #00d7ff; text-decoration-color: #00d7ff\">None</span>, <span style=\"color: #00af00; text-decoration-color: #00af00\">64</span>) │         <span style=\"color: #00af00; text-decoration-color: #00af00\">4,160</span> │\n",
              "├─────────────────────────────────┼────────────────────────┼───────────────┤\n",
              "│ dense_5 (<span style=\"color: #0087ff; text-decoration-color: #0087ff\">Dense</span>)                 │ (<span style=\"color: #00d7ff; text-decoration-color: #00d7ff\">None</span>, <span style=\"color: #00d7ff; text-decoration-color: #00d7ff\">None</span>, <span style=\"color: #00d7ff; text-decoration-color: #00d7ff\">None</span>, <span style=\"color: #00af00; text-decoration-color: #00af00\">11</span>) │           <span style=\"color: #00af00; text-decoration-color: #00af00\">715</span> │\n",
              "└─────────────────────────────────┴────────────────────────┴───────────────┘\n",
              "</pre>\n"
            ],
            "text/plain": [
              "┏━━━━━━━━━━━━━━━━━━━━━━━━━━━━━━━━━┳━━━━━━━━━━━━━━━━━━━━━━━━┳━━━━━━━━━━━━━━━┓\n",
              "┃\u001b[1m \u001b[0m\u001b[1mLayer (type)                   \u001b[0m\u001b[1m \u001b[0m┃\u001b[1m \u001b[0m\u001b[1mOutput Shape          \u001b[0m\u001b[1m \u001b[0m┃\u001b[1m \u001b[0m\u001b[1m      Param #\u001b[0m\u001b[1m \u001b[0m┃\n",
              "┡━━━━━━━━━━━━━━━━━━━━━━━━━━━━━━━━━╇━━━━━━━━━━━━━━━━━━━━━━━━╇━━━━━━━━━━━━━━━┩\n",
              "│ input_layer_2 (\u001b[38;5;33mInputLayer\u001b[0m)      │ (\u001b[38;5;45mNone\u001b[0m, \u001b[38;5;45mNone\u001b[0m, \u001b[38;5;45mNone\u001b[0m, \u001b[38;5;34m1\u001b[0m)  │             \u001b[38;5;34m0\u001b[0m │\n",
              "├─────────────────────────────────┼────────────────────────┼───────────────┤\n",
              "│ l1 (\u001b[38;5;33mConv2D\u001b[0m)                     │ (\u001b[38;5;45mNone\u001b[0m, \u001b[38;5;45mNone\u001b[0m, \u001b[38;5;45mNone\u001b[0m, \u001b[38;5;34m16\u001b[0m) │           \u001b[38;5;34m160\u001b[0m │\n",
              "├─────────────────────────────────┼────────────────────────┼───────────────┤\n",
              "│ l2 (\u001b[38;5;33mConv2D\u001b[0m)                     │ (\u001b[38;5;45mNone\u001b[0m, \u001b[38;5;45mNone\u001b[0m, \u001b[38;5;45mNone\u001b[0m, \u001b[38;5;34m32\u001b[0m) │         \u001b[38;5;34m4,640\u001b[0m │\n",
              "├─────────────────────────────────┼────────────────────────┼───────────────┤\n",
              "│ l3 (\u001b[38;5;33mConv2D\u001b[0m)                     │ (\u001b[38;5;45mNone\u001b[0m, \u001b[38;5;45mNone\u001b[0m, \u001b[38;5;45mNone\u001b[0m, \u001b[38;5;34m64\u001b[0m) │        \u001b[38;5;34m18,496\u001b[0m │\n",
              "├─────────────────────────────────┼────────────────────────┼───────────────┤\n",
              "│ dense_4 (\u001b[38;5;33mDense\u001b[0m)                 │ (\u001b[38;5;45mNone\u001b[0m, \u001b[38;5;45mNone\u001b[0m, \u001b[38;5;45mNone\u001b[0m, \u001b[38;5;34m64\u001b[0m) │         \u001b[38;5;34m4,160\u001b[0m │\n",
              "├─────────────────────────────────┼────────────────────────┼───────────────┤\n",
              "│ dense_5 (\u001b[38;5;33mDense\u001b[0m)                 │ (\u001b[38;5;45mNone\u001b[0m, \u001b[38;5;45mNone\u001b[0m, \u001b[38;5;45mNone\u001b[0m, \u001b[38;5;34m11\u001b[0m) │           \u001b[38;5;34m715\u001b[0m │\n",
              "└─────────────────────────────────┴────────────────────────┴───────────────┘\n"
            ]
          },
          "metadata": {},
          "output_type": "display_data"
        },
        {
          "data": {
            "text/html": [
              "<pre style=\"white-space:pre;overflow-x:auto;line-height:normal;font-family:Menlo,'DejaVu Sans Mono',consolas,'Courier New',monospace\"><span style=\"font-weight: bold\"> Total params: </span><span style=\"color: #00af00; text-decoration-color: #00af00\">28,171</span> (110.04 KB)\n",
              "</pre>\n"
            ],
            "text/plain": [
              "\u001b[1m Total params: \u001b[0m\u001b[38;5;34m28,171\u001b[0m (110.04 KB)\n"
            ]
          },
          "metadata": {},
          "output_type": "display_data"
        },
        {
          "data": {
            "text/html": [
              "<pre style=\"white-space:pre;overflow-x:auto;line-height:normal;font-family:Menlo,'DejaVu Sans Mono',consolas,'Courier New',monospace\"><span style=\"font-weight: bold\"> Trainable params: </span><span style=\"color: #00af00; text-decoration-color: #00af00\">28,171</span> (110.04 KB)\n",
              "</pre>\n"
            ],
            "text/plain": [
              "\u001b[1m Trainable params: \u001b[0m\u001b[38;5;34m28,171\u001b[0m (110.04 KB)\n"
            ]
          },
          "metadata": {},
          "output_type": "display_data"
        },
        {
          "data": {
            "text/html": [
              "<pre style=\"white-space:pre;overflow-x:auto;line-height:normal;font-family:Menlo,'DejaVu Sans Mono',consolas,'Courier New',monospace\"><span style=\"font-weight: bold\"> Non-trainable params: </span><span style=\"color: #00af00; text-decoration-color: #00af00\">0</span> (0.00 B)\n",
              "</pre>\n"
            ],
            "text/plain": [
              "\u001b[1m Non-trainable params: \u001b[0m\u001b[38;5;34m0\u001b[0m (0.00 B)\n"
            ]
          },
          "metadata": {},
          "output_type": "display_data"
        }
      ],
      "source": [
        "model_c.summary()"
      ]
    },
    {
      "cell_type": "markdown",
      "metadata": {
        "id": "pPlvZZ-5O1Pi"
      },
      "source": [
        "The previous fully convolutional network has precisely the same parameters of the previous classifier, so we can just load the saved weights.\n",
        "\n"
      ]
    },
    {
      "cell_type": "code",
      "execution_count": 24,
      "metadata": {
        "id": "WPi59o0t7R5Z"
      },
      "outputs": [],
      "source": [
        "model_c.load_weights(\"C:\\\\Users\\\\39392\\\\phytondoc\\\\DeepLearning\\\\notebooks\\\\mymodel.weights.h5\")"
      ]
    },
    {
      "cell_type": "markdown",
      "metadata": {
        "id": "eu3ku6-yIKW2"
      },
      "source": [
        "Let us create an image composed by several mnist digits."
      ]
    },
    {
      "cell_type": "code",
      "execution_count": 25,
      "metadata": {
        "id": "kr-B_0bzIXx6"
      },
      "outputs": [],
      "source": [
        "rimg = np.zeros((128,128,1))\n",
        "rimg[12:40,6:34] = x_test[15]\n",
        "rimg[40:68,30:58] = x_test[14]\n",
        "rimg[15:43,45:73] = x_test[13]\n",
        "rimg[5:33,75:103] = x_test[12]\n",
        "rimg[45:73,90:118] = x_test[11]\n",
        "rimg[89:117,70:98] = x_test[9]\n",
        "rimg[80:108,25:53] = x_test[6]"
      ]
    },
    {
      "cell_type": "code",
      "execution_count": 26,
      "metadata": {
        "colab": {
          "base_uri": "https://localhost:8080/",
          "height": 268
        },
        "id": "hoaxUx-3JgfL",
        "outputId": "60fa9643-22d0-40bc-bc56-586efb6cbf5f"
      },
      "outputs": [
        {
          "data": {
            "image/png": "[encoded data removed]",
            "text/plain": [
              "<Figure size 640x480 with 1 Axes>"
            ]
          },
          "metadata": {},
          "output_type": "display_data"
        }
      ],
      "source": [
        "imageplot = plt.imshow(np.reshape(rimg,(128,128)))\n",
        "plt.show()"
      ]
    },
    {
      "cell_type": "markdown",
      "metadata": {
        "id": "04jhU6e4PNWE"
      },
      "source": [
        "We use the cmap function of pyplot to map classes to colors."
      ]
    },
    {
      "cell_type": "code",
      "execution_count": 27,
      "metadata": {
        "colab": {
          "base_uri": "https://localhost:8080/"
        },
        "id": "Zj3XJY43PYly",
        "outputId": "4fdb516c-f1e0-4c55-a411-c34ef538748b"
      },
      "outputs": [
        {
          "name": "stdout",
          "output_type": "stream",
          "text": [
            "(0.38920293465748, 1.0, 0.0) (1.0, 0.0, 0.6306823551141734)\n"
          ]
        },
        {
          "name": "stderr",
          "output_type": "stream",
          "text": [
            "C:\\Users\\39392\\AppData\\Local\\Temp\\ipykernel_4972\\2766553854.py:4: MatplotlibDeprecationWarning: The get_cmap function was deprecated in Matplotlib 3.7 and will be removed two minor releases later. Use ``matplotlib.colormaps[name]`` or ``matplotlib.colormaps.get_cmap(obj)`` instead.\n",
            "  return plt.cm.get_cmap(name, n)\n"
          ]
        }
      ],
      "source": [
        "def get_cmap(n, name='hsv'):\n",
        "    '''Returns a function that maps each index in 0, 1, ..., n-1 to a distinct \n",
        "    RGB color; the keyword argument name must be a standard mpl colormap name.'''\n",
        "    return plt.cm.get_cmap(name, n)\n",
        "\n",
        "cmap = get_cmap(12)\n",
        "\n",
        "def cmap1(n):\n",
        "  return cmap(n)[0:3]\n",
        "\n",
        "print(cmap1(3),cmap1(10)) # apply a RGB color to each category "
      ]
    },
    {
      "cell_type": "markdown",
      "metadata": {
        "id": "rfNDhnzbPk40"
      },
      "source": [
        "Now we try to use the fully convolutional network to \"locate\" digits in out sample image."
      ]
    },
    {
      "cell_type": "code",
      "execution_count": 28,
      "metadata": {
        "colab": {
          "base_uri": "https://localhost:8080/"
        },
        "id": "jt3l9HvOPd0a",
        "outputId": "85e7dc56-ad18-40cb-b595-21eb383bdc42"
      },
      "outputs": [
        {
          "name": "stdout",
          "output_type": "stream",
          "text": [
            "\u001b[1m1/1\u001b[0m \u001b[32m━━━━━━━━━━━━━━━━━━━━\u001b[0m\u001b[37m\u001b[0m \u001b[1m0s\u001b[0m 134ms/step\n",
            "(16, 16, 11)\n"
          ]
        }
      ],
      "source": [
        "fmap = model_c.predict(np.expand_dims(rimg,axis=0))[0] \n",
        "print(fmap.shape)"
      ]
    },
    {
      "cell_type": "code",
      "execution_count": 29,
      "metadata": {
        "colab": {
          "base_uri": "https://localhost:8080/"
        },
        "id": "7loH5p5ZQvTm",
        "outputId": "b1ddb727-df72-41fc-a975-39488b162195"
      },
      "outputs": [
        {
          "name": "stdout",
          "output_type": "stream",
          "text": [
            "(16, 16)\n",
            "[[10 10 10 10 10 10 10 10 10 10 10 10 10 10 10 10]\n",
            " [10  5 10 10 10 10 10 10 10 10  4  3 10 10 10 10]\n",
            " [10  6  2 10 10 10  1  7 10  1  2  1 10 10 10 10]\n",
            " [10  3  1 10 10  1  4  2 10 10 10  1 10 10 10 10]\n",
            " [10  1  4 10 10  1  2  1 10 10 10 10 10 10 10 10]\n",
            " [10 10 10 10  7  7 10 10 10 10 10 10 10 10 10 10]\n",
            " [10 10 10 10  0  1 10 10 10 10 10  1  4  2 10 10]\n",
            " [10 10 10 10  2  3 10 10 10 10 10  8  6  3 10 10]\n",
            " [10 10 10 10 10 10 10 10 10 10 10  1  2  1 10 10]\n",
            " [10 10 10 10 10 10 10 10 10 10 10 10 10 10 10 10]\n",
            " [10 10 10  6  4 10 10 10 10 10 10 10 10 10 10 10]\n",
            " [10 10 10  5  7  1 10 10 10  2  2 10 10 10 10 10]\n",
            " [10 10 10 10  2 10 10 10 10  8  3  1 10 10 10 10]\n",
            " [10 10 10 10 10 10 10 10 10  2  1 10 10 10 10 10]\n",
            " [10 10 10 10 10 10 10 10 10  7 10 10 10 10 10 10]\n",
            " [10 10 10 10 10 10 10 10 10 10 10 10 10 10 10 10]]\n"
          ]
        }
      ],
      "source": [
        "fmap = np.argmax(fmap,axis=-1)\n",
        "print(fmap.shape)\n",
        "print(fmap)"
      ]
    },
    {
      "cell_type": "markdown",
      "metadata": {
        "id": "n_F_2xH7P1Ca"
      },
      "source": [
        "The result is better appreciated as a heatmap."
      ]
    },
    {
      "cell_type": "code",
      "execution_count": 30,
      "metadata": {
        "colab": {
          "base_uri": "https://localhost:8080/"
        },
        "id": "ppQdo0_YRBHo",
        "outputId": "95654de9-9c6e-4933-93f3-09725bb24b07"
      },
      "outputs": [
        {
          "name": "stdout",
          "output_type": "stream",
          "text": [
            "(16, 16, 3)\n"
          ]
        }
      ],
      "source": [
        "vcmap = np.vectorize(cmap1)\n",
        "fcmap = np.array(vcmap(fmap))\n",
        "fcmap = np.transpose(fcmap,(1,2,0))\n",
        "print(fcmap.shape)"
      ]
    },
    {
      "cell_type": "code",
      "execution_count": 31,
      "metadata": {
        "colab": {
          "base_uri": "https://localhost:8080/",
          "height": 268
        },
        "id": "bJJR1aDDZqNX",
        "outputId": "2ba8df0e-6fae-4259-c754-c57aec5f2128"
      },
      "outputs": [
        {
          "data": {
            "image/png": "[encoded data removed]",
            "text/plain": [
              "<Figure size 640x480 with 1 Axes>"
            ]
          },
          "metadata": {},
          "output_type": "display_data"
        }
      ],
      "source": [
        "fig,ax = plt.subplots()\n",
        "ax.imshow(fcmap)\n",
        "for i in range(11):\n",
        "  ax.text(18,2*i,str(i))\n",
        "  ax.scatter(20,2*i,s=40,color=cmap1(i))\n",
        "plt.show()"
      ]
    },
    {
      "cell_type": "markdown",
      "metadata": {
        "id": "GlrZrMdLQG2F"
      },
      "source": [
        "Location is good but classification is not always accurate.\n",
        "\n",
        "#Improvements\n",
        "\n",
        "Let us try to improve things by training a classifier more robust to dispacements (mnist data are precisely centered, while the stride of the convolutional network is 8)."
      ]
    },
    {
      "cell_type": "code",
      "execution_count": 32,
      "metadata": {
        "id": "RDvR0XwASFLD"
      },
      "outputs": [],
      "source": [
        "from tensorflow.keras.preprocessing.image import ImageDataGenerator\n",
        "\n",
        "datagen = ImageDataGenerator(\n",
        "        #rotation_range=0.1,\n",
        "        width_shift_range=0.2,\n",
        "        height_shift_range=0.2,\n",
        "        #shear_range=0.15,\n",
        "        #zoom_range=0.15,\n",
        "        horizontal_flip=False,\n",
        "        fill_mode='nearest')"
      ]
    },
    {
      "cell_type": "markdown",
      "metadata": {
        "id": "COcc_SJaTkxO"
      },
      "source": [
        "Let's look at sample samples of augmement data:"
      ]
    },
    {
      "cell_type": "code",
      "execution_count": 33,
      "metadata": {
        "colab": {
          "base_uri": "https://localhost:8080/",
          "height": 1000
        },
        "id": "gbpOLiraWI_j",
        "outputId": "4878f19b-2af8-41bd-b10a-8956154a91b3"
      },
      "outputs": [
        {
          "data": {
            "image/png": "[encoded data removed]",
            "text/plain": [
              "<Figure size 640x480 with 1 Axes>"
            ]
          },
          "metadata": {},
          "output_type": "display_data"
        },
        {
          "data": {
            "image/png": "[encoded data removed]",
            "text/plain": [
              "<Figure size 640x480 with 1 Axes>"
            ]
          },
          "metadata": {},
          "output_type": "display_data"
        },
        {
          "data": {
            "image/png": "[encoded data removed]",
            "text/plain": [
              "<Figure size 640x480 with 1 Axes>"
            ]
          },
          "metadata": {},
          "output_type": "display_data"
        },
        {
          "data": {
            "image/png": "[encoded data removed]",
            "text/plain": [
              "<Figure size 640x480 with 1 Axes>"
            ]
          },
          "metadata": {},
          "output_type": "display_data"
        },
        {
          "data": {
            "image/png": "[encoded data removed]",
            "text/plain": [
              "<Figure size 640x480 with 1 Axes>"
            ]
          },
          "metadata": {},
          "output_type": "display_data"
        },
        {
          "data": {
            "image/png": "[encoded data removed]",
            "text/plain": [
              "<Figure size 640x480 with 1 Axes>"
            ]
          },
          "metadata": {},
          "output_type": "display_data"
        }
      ],
      "source": [
        "i = 0\n",
        "for batch in datagen.flow(x_train[7:8], batch_size=1):\n",
        "    i += 1\n",
        "    plt.imshow(batch[0,:,:,0])\n",
        "    plt.show()\n",
        "    if i > 5:\n",
        "        break  # otherwise the generator would loop indefinitely"
      ]
    },
    {
      "cell_type": "code",
      "execution_count": 34,
      "metadata": {
        "id": "brn4F0LUXs3a"
      },
      "outputs": [],
      "source": [
        "train_generator = datagen.flow(x_train_bg,y_train_bg,batch_size=100)"
      ]
    },
    {
      "cell_type": "code",
      "execution_count": 35,
      "metadata": {
        "colab": {
          "base_uri": "https://localhost:8080/"
        },
        "id": "xGnvhhU5YoG5",
        "outputId": "fdd9784c-2d5a-4141-c2bc-31caedd49d42"
      },
      "outputs": [
        {
          "name": "stdout",
          "output_type": "stream",
          "text": [
            "Epoch 1/5\n"
          ]
        },
        {
          "name": "stderr",
          "output_type": "stream",
          "text": [
            "C:\\Users\\39392\\AppData\\Local\\Packages\\PythonSoftwareFoundation.Python.3.10_qbz5n2kfra8p0\\LocalCache\\local-packages\\Python310\\site-packages\\keras\\src\\trainers\\data_adapters\\py_dataset_adapter.py:121: UserWarning: Your `PyDataset` class should call `super().__init__(**kwargs)` in its constructor. `**kwargs` can include `workers`, `use_multiprocessing`, `max_queue_size`. Do not pass these arguments to `fit()`, as they will be ignored.\n",
            "  self._warn_if_super_not_called()\n"
          ]
        },
        {
          "name": "stdout",
          "output_type": "stream",
          "text": [
            "\u001b[1m600/600\u001b[0m \u001b[32m━━━━━━━━━━━━━━━━━━━━\u001b[0m\u001b[37m\u001b[0m \u001b[1m28s\u001b[0m 44ms/step - accuracy: 0.8940 - loss: 0.3537 - val_accuracy: 0.9664 - val_loss: 0.1017\n",
            "Epoch 2/5\n",
            "\u001b[1m 57/600\u001b[0m \u001b[32m━\u001b[0m\u001b[37m━━━━━━━━━━━━━━━━━━━\u001b[0m \u001b[1m25s\u001b[0m 48ms/step - accuracy: 0.9573 - loss: 0.1212"
          ]
        },
        {
          "name": "stderr",
          "output_type": "stream",
          "text": [
            "C:\\Program Files\\WindowsApps\\PythonSoftwareFoundation.Python.3.10_3.10.3056.0_x64__qbz5n2kfra8p0\\lib\\contextlib.py:153: UserWarning: Your input ran out of data; interrupting training. Make sure that your dataset or generator can generate at least `steps_per_epoch * epochs` batches. You may need to use the `.repeat()` function when building your dataset.\n",
            "  self.gen.throw(typ, value, traceback)\n"
          ]
        },
        {
          "name": "stdout",
          "output_type": "stream",
          "text": [
            "\u001b[1m600/600\u001b[0m \u001b[32m━━━━━━━━━━━━━━━━━━━━\u001b[0m\u001b[37m\u001b[0m \u001b[1m4s\u001b[0m 7ms/step - accuracy: 0.9587 - loss: 0.1226 - val_accuracy: 0.9585 - val_loss: 0.1259\n",
            "Epoch 3/5\n",
            "\u001b[1m600/600\u001b[0m \u001b[32m━━━━━━━━━━━━━━━━━━━━\u001b[0m\u001b[37m\u001b[0m \u001b[1m31s\u001b[0m 51ms/step - accuracy: 0.9611 - loss: 0.1228 - val_accuracy: 0.9663 - val_loss: 0.1057\n",
            "Epoch 4/5\n",
            "\u001b[1m600/600\u001b[0m \u001b[32m━━━━━━━━━━━━━━━━━━━━\u001b[0m\u001b[37m\u001b[0m \u001b[1m3s\u001b[0m 5ms/step - accuracy: 0.9679 - loss: 0.1026 - val_accuracy: 0.9732 - val_loss: 0.0825\n",
            "Epoch 5/5\n",
            "\u001b[1m600/600\u001b[0m \u001b[32m━━━━━━━━━━━━━━━━━━━━\u001b[0m\u001b[37m\u001b[0m \u001b[1m30s\u001b[0m 49ms/step - accuracy: 0.9696 - loss: 0.0967 - val_accuracy: 0.9706 - val_loss: 0.0867\n"
          ]
        },
        {
          "data": {
            "text/plain": [
              "<keras.src.callbacks.history.History at 0x1ba0338fd90>"
            ]
          },
          "execution_count": 35,
          "metadata": {},
          "output_type": "execute_result"
        }
      ],
      "source": [
        "model.fit(train_generator,\n",
        "          steps_per_epoch = 600,\n",
        "          epochs=5,\n",
        "          validation_data=(x_test_bg, y_test_bg))"
      ]
    },
    {
      "cell_type": "code",
      "execution_count": 36,
      "metadata": {
        "id": "SJectqSSaUv5"
      },
      "outputs": [],
      "source": [
        "model.save_weights(\"C:\\\\Users\\\\39392\\\\phytondoc\\\\DeepLearning\\\\notebooks\\\\mymodel_bis.weights.h5\")"
      ]
    },
    {
      "cell_type": "code",
      "execution_count": 37,
      "metadata": {
        "id": "_wXvWSBPadXU"
      },
      "outputs": [],
      "source": [
        "model_c.load_weights(\"C:\\\\Users\\\\39392\\\\phytondoc\\\\DeepLearning\\\\notebooks\\\\mymodel_bis.weights.h5\")"
      ]
    },
    {
      "cell_type": "code",
      "execution_count": 38,
      "metadata": {
        "colab": {
          "base_uri": "https://localhost:8080/"
        },
        "id": "gwAoDgPbanFL",
        "outputId": "ee664e2b-f566-4e0b-9051-a1d0fbc6e19c"
      },
      "outputs": [
        {
          "name": "stdout",
          "output_type": "stream",
          "text": [
            "\u001b[1m1/1\u001b[0m \u001b[32m━━━━━━━━━━━━━━━━━━━━\u001b[0m\u001b[37m\u001b[0m \u001b[1m0s\u001b[0m 29ms/step\n",
            "[[10 10 10 10 10 10 10 10 10 10 10 10 10 10 10 10]\n",
            " [10  9 10 10 10 10 10 10 10 10  4  7 10 10 10 10]\n",
            " [10  6  2 10 10 10  1  2 10 10  1  1 10 10 10 10]\n",
            " [10 10  2 10 10  1  1  1 10 10 10 10 10 10 10 10]\n",
            " [10  1  2 10 10  1  2  3 10 10 10 10 10 10 10 10]\n",
            " [10 10 10 10 10  1 10 10 10 10 10 10 10 10 10 10]\n",
            " [10 10 10 10  1  1 10 10 10 10 10  6  4  7 10 10]\n",
            " [10 10 10 10 10 10 10 10 10 10 10  6  2  3 10 10]\n",
            " [10 10 10 10 10 10 10 10 10 10 10 10  2 10 10 10]\n",
            " [10 10 10 10 10 10 10 10 10 10 10 10 10 10 10 10]\n",
            " [10 10 10  6  4 10 10 10 10 10 10 10 10 10 10 10]\n",
            " [10 10 10 10  2  1 10 10 10  7  7 10 10 10 10 10]\n",
            " [10 10 10 10  2 10 10 10 10  9  3  1 10 10 10 10]\n",
            " [10 10 10 10 10 10 10 10 10  1  1 10 10 10 10 10]\n",
            " [10 10 10 10 10 10 10 10 10 10 10 10 10 10 10 10]\n",
            " [10 10 10 10 10 10 10 10 10 10 10 10 10 10 10 10]]\n",
            "(16, 16, 3)\n"
          ]
        }
      ],
      "source": [
        "fmap = model_c.predict(np.expand_dims(rimg,axis=0))[0]\n",
        "fmap = np.argmax(fmap,axis=-1)\n",
        "print(fmap)\n",
        "fcmap = np.array(vcmap(fmap))\n",
        "fcmap = np.transpose(fcmap,(1,2,0))\n",
        "print(fcmap.shape)"
      ]
    },
    {
      "cell_type": "code",
      "execution_count": 39,
      "metadata": {
        "colab": {
          "base_uri": "https://localhost:8080/",
          "height": 268
        },
        "id": "hx4ub7zZa5YP",
        "outputId": "f59a3766-b5bc-41e8-a4d6-fa4b134afa36"
      },
      "outputs": [
        {
          "data": {
            "image/png": "[encoded data removed]",
            "text/plain": [
              "<Figure size 640x480 with 1 Axes>"
            ]
          },
          "metadata": {},
          "output_type": "display_data"
        }
      ],
      "source": [
        "fig,ax = plt.subplots()\n",
        "ax.imshow(fcmap)\n",
        "for i in range(11):\n",
        "  ax.text(18,2*i,str(i))\n",
        "  ax.scatter(20,2*i,s=40,color=cmap1(i))\n",
        "plt.show()"
      ]
    },
    {
      "cell_type": "markdown",
      "metadata": {
        "id": "NXUFA3GLT1MI"
      },
      "source": [
        "As a second attemp we consider a sligtly more sophisticated classifier."
      ]
    },
    {
      "cell_type": "code",
      "execution_count": 40,
      "metadata": {
        "id": "DijHOV-4cGvs"
      },
      "outputs": [],
      "source": [
        "iimg = Input(shape=(28,28,1))\n",
        "x = Conv2D(16,(3,3),strides=2,padding='same', activation='swish')(iimg)\n",
        "x = Conv2D(16,(3,3),strides=1,padding='same',activation='swish')(x)\n",
        "x = Conv2D(32,(3,3),strides=2,padding='same',activation='swish')(x)\n",
        "x = Conv2D(32,(3,3),strides=1,padding='same',activation='swish')(x)\n",
        "x = Conv2D(64,(3,3),strides=2,padding='same',activation='swish')(x)\n",
        "x = Conv2D(64,(3,3),strides=1,padding='same',activation='swish')(x)\n",
        "x = GlobalMaxPool2D()(x)\n",
        "x = Dense(64,activation = 'swish')(x)\n",
        "cout = Dense(11, activation = 'softmax')(x) #we have now 11 categories\n",
        "\n",
        "model2 = Model(inputs=[iimg],outputs=[cout])"
      ]
    },
    {
      "cell_type": "code",
      "execution_count": 41,
      "metadata": {
        "id": "4Uuv3puZcvfc"
      },
      "outputs": [],
      "source": [
        "model2.compile(optimizer='adam',loss='sparse_categorical_crossentropy',metrics=['accuracy'])"
      ]
    },
    {
      "cell_type": "code",
      "execution_count": 42,
      "metadata": {
        "colab": {
          "base_uri": "https://localhost:8080/"
        },
        "id": "eee-uXT9c3Op",
        "outputId": "78d6ea17-5e6a-43f0-e20c-754221ebcd39"
      },
      "outputs": [
        {
          "name": "stdout",
          "output_type": "stream",
          "text": [
            "Epoch 1/5\n",
            "\u001b[1m600/600\u001b[0m \u001b[32m━━━━━━━━━━━━━━━━━━━━\u001b[0m\u001b[37m\u001b[0m \u001b[1m39s\u001b[0m 58ms/step - accuracy: 0.6418 - loss: 1.0208 - val_accuracy: 0.9252 - val_loss: 0.2357\n",
            "Epoch 2/5\n",
            "\u001b[1m 59/600\u001b[0m \u001b[32m━\u001b[0m\u001b[37m━━━━━━━━━━━━━━━━━━━\u001b[0m \u001b[1m22s\u001b[0m 41ms/step - accuracy: 0.9390 - loss: 0.1944"
          ]
        },
        {
          "name": "stderr",
          "output_type": "stream",
          "text": [
            "C:\\Program Files\\WindowsApps\\PythonSoftwareFoundation.Python.3.10_3.10.3056.0_x64__qbz5n2kfra8p0\\lib\\contextlib.py:153: UserWarning: Your input ran out of data; interrupting training. Make sure that your dataset or generator can generate at least `steps_per_epoch * epochs` batches. You may need to use the `.repeat()` function when building your dataset.\n",
            "  self.gen.throw(typ, value, traceback)\n"
          ]
        },
        {
          "name": "stdout",
          "output_type": "stream",
          "text": [
            "\u001b[1m600/600\u001b[0m \u001b[32m━━━━━━━━━━━━━━━━━━━━\u001b[0m\u001b[37m\u001b[0m \u001b[1m4s\u001b[0m 7ms/step - accuracy: 0.9444 - loss: 0.1799 - val_accuracy: 0.9422 - val_loss: 0.1725\n",
            "Epoch 3/5\n",
            "\u001b[1m600/600\u001b[0m \u001b[32m━━━━━━━━━━━━━━━━━━━━\u001b[0m\u001b[37m\u001b[0m \u001b[1m28s\u001b[0m 46ms/step - accuracy: 0.9550 - loss: 0.1424 - val_accuracy: 0.9723 - val_loss: 0.0832\n",
            "Epoch 4/5\n",
            "\u001b[1m600/600\u001b[0m \u001b[32m━━━━━━━━━━━━━━━━━━━━\u001b[0m\u001b[37m\u001b[0m \u001b[1m4s\u001b[0m 7ms/step - accuracy: 0.9677 - loss: 0.1023 - val_accuracy: 0.9647 - val_loss: 0.1080\n",
            "Epoch 5/5\n",
            "\u001b[1m600/600\u001b[0m \u001b[32m━━━━━━━━━━━━━━━━━━━━\u001b[0m\u001b[37m\u001b[0m \u001b[1m29s\u001b[0m 48ms/step - accuracy: 0.9696 - loss: 0.0952 - val_accuracy: 0.9791 - val_loss: 0.0623\n"
          ]
        },
        {
          "data": {
            "text/plain": [
              "<keras.src.callbacks.history.History at 0x1ba02fafcd0>"
            ]
          },
          "execution_count": 42,
          "metadata": {},
          "output_type": "execute_result"
        }
      ],
      "source": [
        "model2.fit(train_generator,\n",
        "          steps_per_epoch = 600,\n",
        "          epochs=5,\n",
        "          validation_data=(x_test_bg, y_test_bg))"
      ]
    },
    {
      "cell_type": "code",
      "execution_count": 43,
      "metadata": {
        "id": "p6p7XCn-elAV"
      },
      "outputs": [],
      "source": [
        "model2.save_weights(\"C:\\\\Users\\\\39392\\\\phytondoc\\\\DeepLearning\\\\notebooks\\\\mymodel2.weights.h5\")"
      ]
    },
    {
      "cell_type": "markdown",
      "metadata": {
        "id": "iirhhadoUJF6"
      },
      "source": [
        "Now we convolutionalize the previous calssifier. In this case, we also leave a pooling layer after the convolution. Since we do not want to further decrease the spatial dimension of the feature map, we apply it with stride 1 (the default stride for pooling layers is equal to the dimension of the kernel)."
      ]
    },
    {
      "cell_type": "code",
      "execution_count": 44,
      "metadata": {
        "id": "4bYCpOPTeIB-"
      },
      "outputs": [],
      "source": [
        "iimg = Input(shape=(None,None,1))\n",
        "x = Conv2D(16,(3,3),strides=2,padding='same', activation='swish')(iimg)\n",
        "x = Conv2D(16,(3,3),strides=1,padding='same',activation='swish')(x)\n",
        "x = Conv2D(32,(3,3),strides=2,padding='same',activation='swish')(x)\n",
        "x = Conv2D(32,(3,3),strides=1,padding='same',activation='swish')(x)\n",
        "x = Conv2D(64,(3,3),strides=2,padding='same',activation='swish')(x)\n",
        "x = Conv2D(64,(3,3),strides=1,padding='same',activation='swish')(x)\n",
        "x = MaxPool2D((3,3),padding='same',strides=1)(x)\n",
        "x = Dense(64,activation = 'swish')(x)\n",
        "cout = Dense(11, activation = 'softmax')(x) \n",
        "\n",
        "model2_c = Model(inputs=[iimg],outputs=[cout])"
      ]
    },
    {
      "cell_type": "code",
      "execution_count": 45,
      "metadata": {
        "id": "TaC6FKBpeia7"
      },
      "outputs": [],
      "source": [
        "model2_c.load_weights(\"C:\\\\Users\\\\39392\\\\phytondoc\\\\DeepLearning\\\\notebooks\\\\mymodel2.weights.h5\")"
      ]
    },
    {
      "cell_type": "code",
      "execution_count": 46,
      "metadata": {
        "colab": {
          "base_uri": "https://localhost:8080/"
        },
        "id": "B_8Y_3mte21n",
        "outputId": "002cb182-91c4-47f3-b11b-b8c506f519cc"
      },
      "outputs": [
        {
          "name": "stdout",
          "output_type": "stream",
          "text": [
            "\u001b[1m1/1\u001b[0m \u001b[32m━━━━━━━━━━━━━━━━━━━━\u001b[0m\u001b[37m\u001b[0m \u001b[1m0s\u001b[0m 228ms/step\n",
            "[[ 5  1  1 10 10 10 10 10 10  9  9  9  5 10 10 10]\n",
            " [ 5  5  3  3  0 10  0  0  9  9  9  9  9 10 10 10]\n",
            " [ 5  5  5  5  5  0  0  0  0  9  9  7  5 10 10 10]\n",
            " [ 5  5  5  5  0  0  0  0  0  7  7  7  5 10 10 10]\n",
            " [ 5  5  5  5  1  1  0  0  0 10 10 10 10 10 10 10]\n",
            " [10 10 10 10  1  1  1 10 10 10 10  6  6  0  0 10]\n",
            " [10 10 10 10  1  1  1 10 10 10  6  6  6  6  5 10]\n",
            " [10 10 10  1  1  1  1 10 10 10  6  6  6  6  5 10]\n",
            " [10 10 10 10 10 10 10 10 10 10  8  6  6  6  5 10]\n",
            " [10 10 10 10  6  6 10 10 10 10 10 10 10 10 10 10]\n",
            " [10 10 10  4  4  4  1 10 10  9  2  2 10 10 10 10]\n",
            " [10 10  5  4  4  4  4 10  9  9  9  7 10 10 10 10]\n",
            " [10 10 10  4  4  4  5 10  9  9  9  7  0 10 10 10]\n",
            " [10 10 10 10 10 10 10 10  7  8  8  7 10 10 10 10]\n",
            " [10 10 10 10 10 10 10 10 10  3  5  5 10 10 10 10]\n",
            " [10 10 10 10 10 10 10 10 10 10 10 10 10 10 10 10]]\n",
            "(16, 16, 3)\n"
          ]
        }
      ],
      "source": [
        "fmap = model2_c.predict(np.expand_dims(rimg,axis=0))[0]\n",
        "fmap = np.argmax(fmap,axis=-1)\n",
        "print(fmap)\n",
        "fcmap = np.array(vcmap(fmap))\n",
        "fcmap = np.transpose(fcmap,(1,2,0))\n",
        "print(fcmap.shape)"
      ]
    },
    {
      "cell_type": "code",
      "execution_count": 47,
      "metadata": {
        "colab": {
          "base_uri": "https://localhost:8080/",
          "height": 268
        },
        "id": "HRXeXeLufJWr",
        "outputId": "c164a23a-e27f-47cb-b0c3-7307b69b6393"
      },
      "outputs": [
        {
          "data": {
            "image/png": "[encoded data removed]",
            "text/plain": [
              "<Figure size 640x480 with 1 Axes>"
            ]
          },
          "metadata": {},
          "output_type": "display_data"
        }
      ],
      "source": [
        "fig,ax = plt.subplots()\n",
        "ax.imshow(fcmap)\n",
        "for i in range(11):\n",
        "  ax.text(18,2*i,str(i))\n",
        "  ax.scatter(20,2*i,s=40,color=cmap1(i))\n",
        "plt.show()"
      ]
    }
  ],
  "metadata": {
    "accelerator": "GPU",
    "colab": {
      "collapsed_sections": [],
      "name": "Convolutionalization.ipynb",
      "provenance": []
    },
    "kernelspec": {
      "display_name": "Python 3",
      "name": "python3"
    },
    "language_info": {
      "codemirror_mode": {
        "name": "ipython",
        "version": 3
      },
      "file_extension": ".py",
      "mimetype": "text/x-python",
      "name": "python",
      "nbconvert_exporter": "python",
      "pygments_lexer": "ipython3",
      "version": "3.10.11"
    }
  },
  "nbformat": 4,
  "nbformat_minor": 0
}
